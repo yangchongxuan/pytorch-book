{
 "metadata": {
  "language_info": {
   "codemirror_mode": {
    "name": "ipython",
    "version": 3
   },
   "file_extension": ".py",
   "mimetype": "text/x-python",
   "name": "python",
   "nbconvert_exporter": "python",
   "pygments_lexer": "ipython3",
   "version": "3.7.4-final"
  },
  "orig_nbformat": 2,
  "kernelspec": {
   "name": "python3",
   "display_name": "Python 3",
   "language": "python"
  }
 },
 "nbformat": 4,
 "nbformat_minor": 2,
 "cells": [
  {
   "cell_type": "code",
   "execution_count": 2,
   "metadata": {},
   "outputs": [],
   "source": [
    "import torch"
   ]
  },
  {
   "cell_type": "code",
   "execution_count": 3,
   "metadata": {},
   "outputs": [],
   "source": [
    "a = torch.rand(4, 1, 28, 28)"
   ]
  },
  {
   "cell_type": "code",
   "execution_count": 4,
   "metadata": {},
   "outputs": [
    {
     "output_type": "execute_result",
     "data": {
      "text/plain": [
       "torch.Size([4, 1, 28, 28])"
      ]
     },
     "metadata": {},
     "execution_count": 4
    }
   ],
   "source": [
    "a.shape"
   ]
  },
  {
   "cell_type": "code",
   "execution_count": 5,
   "metadata": {},
   "outputs": [
    {
     "output_type": "execute_result",
     "data": {
      "text/plain": [
       "tensor([[0.0407, 0.7126, 0.2743,  ..., 0.3248, 0.1242, 0.0362],\n",
       "        [0.3159, 0.1511, 0.6496,  ..., 0.3998, 0.2799, 0.8600],\n",
       "        [0.5032, 0.3137, 0.5733,  ..., 0.4375, 0.8257, 0.6726],\n",
       "        [0.0233, 0.1505, 0.9582,  ..., 0.8599, 0.7399, 1.0000]])"
      ]
     },
     "metadata": {},
     "execution_count": 5
    }
   ],
   "source": [
    "a.view(4, 28*28)"
   ]
  },
  {
   "cell_type": "code",
   "execution_count": 6,
   "metadata": {},
   "outputs": [
    {
     "output_type": "execute_result",
     "data": {
      "text/plain": [
       "torch.Size([4, 784])"
      ]
     },
     "metadata": {},
     "execution_count": 6
    }
   ],
   "source": [
    "a.view(4, 28*28).shape"
   ]
  },
  {
   "cell_type": "code",
   "execution_count": 7,
   "metadata": {},
   "outputs": [
    {
     "output_type": "execute_result",
     "data": {
      "text/plain": [
       "torch.Size([112, 28])"
      ]
     },
     "metadata": {},
     "execution_count": 7
    }
   ],
   "source": [
    "a.view(4*28, 28).shape"
   ]
  },
  {
   "cell_type": "code",
   "execution_count": 8,
   "metadata": {},
   "outputs": [],
   "source": [
    "b = a.view(4, 784)"
   ]
  },
  {
   "cell_type": "code",
   "execution_count": 9,
   "metadata": {},
   "outputs": [
    {
     "output_type": "execute_result",
     "data": {
      "text/plain": [
       "tensor([[[[4.0743e-02, 7.1256e-01, 2.7431e-01,  ..., 9.9525e-01,\n",
       "           4.6010e-01, 5.0155e-01],\n",
       "          [8.6517e-01, 1.9909e-01, 8.2844e-01,  ..., 3.6030e-01,\n",
       "           9.6641e-01, 4.2263e-01],\n",
       "          [3.9410e-01, 7.8289e-01, 4.2571e-01,  ..., 9.3159e-01,\n",
       "           4.2863e-01, 1.5793e-01],\n",
       "          ...,\n",
       "          [3.6026e-01, 7.9668e-01, 6.7036e-01,  ..., 4.5725e-01,\n",
       "           2.3544e-02, 8.2025e-01],\n",
       "          [4.5257e-01, 3.6902e-01, 3.4310e-01,  ..., 6.5075e-01,\n",
       "           5.1082e-02, 5.0930e-01],\n",
       "          [5.2419e-01, 1.5650e-01, 6.6277e-01,  ..., 3.2480e-01,\n",
       "           1.2425e-01, 3.6214e-02]]],\n",
       "\n",
       "\n",
       "        [[[3.1594e-01, 1.5109e-01, 6.4962e-01,  ..., 5.1206e-01,\n",
       "           4.2768e-02, 7.1222e-01],\n",
       "          [7.3800e-01, 5.9424e-01, 7.5259e-01,  ..., 3.5358e-02,\n",
       "           6.1602e-01, 6.0571e-01],\n",
       "          [2.3075e-01, 2.9577e-01, 9.9494e-01,  ..., 4.3055e-01,\n",
       "           2.2124e-02, 1.2656e-01],\n",
       "          ...,\n",
       "          [6.7441e-01, 6.7198e-01, 2.6036e-01,  ..., 5.3716e-01,\n",
       "           4.5750e-01, 9.2643e-01],\n",
       "          [2.1794e-01, 4.3388e-01, 2.1790e-01,  ..., 5.2882e-01,\n",
       "           1.7114e-01, 1.7824e-01],\n",
       "          [3.8919e-01, 8.9361e-01, 9.9986e-01,  ..., 3.9977e-01,\n",
       "           2.7993e-01, 8.6001e-01]]],\n",
       "\n",
       "\n",
       "        [[[5.0315e-01, 3.1371e-01, 5.7334e-01,  ..., 8.6262e-01,\n",
       "           2.0178e-01, 4.8146e-01],\n",
       "          [6.1129e-01, 5.8676e-02, 5.0783e-02,  ..., 5.0392e-01,\n",
       "           7.5733e-01, 4.6312e-01],\n",
       "          [2.3603e-01, 7.7560e-01, 6.8866e-01,  ..., 8.6101e-01,\n",
       "           2.3659e-02, 2.6199e-01],\n",
       "          ...,\n",
       "          [7.9165e-02, 6.5833e-04, 3.8049e-02,  ..., 9.2617e-01,\n",
       "           2.3777e-01, 8.1610e-01],\n",
       "          [6.3306e-01, 6.4453e-01, 2.6113e-01,  ..., 5.8550e-01,\n",
       "           8.0365e-01, 7.1910e-01],\n",
       "          [6.6789e-01, 5.2964e-01, 6.7710e-01,  ..., 4.3754e-01,\n",
       "           8.2568e-01, 6.7256e-01]]],\n",
       "\n",
       "\n",
       "        [[[2.3255e-02, 1.5049e-01, 9.5820e-01,  ..., 9.7341e-01,\n",
       "           1.3536e-01, 7.3865e-01],\n",
       "          [1.3909e-01, 9.3300e-01, 3.8789e-01,  ..., 8.2766e-01,\n",
       "           1.6290e-01, 8.0037e-01],\n",
       "          [5.0433e-01, 5.5003e-01, 6.2550e-02,  ..., 4.4585e-01,\n",
       "           9.4672e-01, 6.3977e-01],\n",
       "          ...,\n",
       "          [7.1826e-01, 4.9882e-01, 5.6116e-01,  ..., 1.8354e-01,\n",
       "           4.9459e-01, 7.6821e-01],\n",
       "          [9.2182e-01, 3.1929e-01, 7.9972e-01,  ..., 3.4782e-01,\n",
       "           4.5953e-01, 7.4443e-02],\n",
       "          [8.9715e-01, 4.4735e-01, 7.3408e-01,  ..., 8.5986e-01,\n",
       "           7.3993e-01, 9.9997e-01]]]])"
      ]
     },
     "metadata": {},
     "execution_count": 9
    }
   ],
   "source": [
    "b.view(4, 1, 28, 28)"
   ]
  },
  {
   "cell_type": "code",
   "execution_count": 10,
   "metadata": {},
   "outputs": [
    {
     "output_type": "execute_result",
     "data": {
      "text/plain": [
       "torch.Size([1, 4, 1, 28, 28])"
      ]
     },
     "metadata": {},
     "execution_count": 10
    }
   ],
   "source": [
    "a.unsqueeze(0).shape"
   ]
  },
  {
   "cell_type": "code",
   "execution_count": 11,
   "metadata": {},
   "outputs": [
    {
     "output_type": "execute_result",
     "data": {
      "text/plain": [
       "torch.Size([4, 1, 28, 28, 1])"
      ]
     },
     "metadata": {},
     "execution_count": 11
    }
   ],
   "source": [
    "a.unsqueeze(-1).shape"
   ]
  },
  {
   "cell_type": "code",
   "execution_count": 13,
   "metadata": {},
   "outputs": [
    {
     "output_type": "error",
     "ename": "IndexError",
     "evalue": "Dimension out of range (expected to be in range of [-5, 4], but got 5)",
     "traceback": [
      "\u001b[0;31m---------------------------------------------------------------------------\u001b[0m",
      "\u001b[0;31mIndexError\u001b[0m                                Traceback (most recent call last)",
      "\u001b[0;32m<ipython-input-13-b54eab361a50>\u001b[0m in \u001b[0;36m<module>\u001b[0;34m\u001b[0m\n\u001b[0;32m----> 1\u001b[0;31m \u001b[0ma\u001b[0m\u001b[0;34m.\u001b[0m\u001b[0munsqueeze\u001b[0m\u001b[0;34m(\u001b[0m\u001b[0;36m5\u001b[0m\u001b[0;34m)\u001b[0m\u001b[0;34m.\u001b[0m\u001b[0mshape\u001b[0m\u001b[0;34m\u001b[0m\u001b[0;34m\u001b[0m\u001b[0m\n\u001b[0m",
      "\u001b[0;31mIndexError\u001b[0m: Dimension out of range (expected to be in range of [-5, 4], but got 5)"
     ]
    }
   ],
   "source": [
    "a.unsqueeze(5).shape"
   ]
  },
  {
   "cell_type": "code",
   "execution_count": 14,
   "metadata": {},
   "outputs": [],
   "source": [
    "a =  torch.tensor([1.2, 2.3])"
   ]
  },
  {
   "cell_type": "code",
   "execution_count": 15,
   "metadata": {},
   "outputs": [
    {
     "output_type": "execute_result",
     "data": {
      "text/plain": [
       "torch.Size([2])"
      ]
     },
     "metadata": {},
     "execution_count": 15
    }
   ],
   "source": [
    "a.shape"
   ]
  },
  {
   "cell_type": "code",
   "execution_count": 17,
   "metadata": {},
   "outputs": [
    {
     "output_type": "execute_result",
     "data": {
      "text/plain": [
       "(tensor([[1.2000],\n",
       "         [2.3000]]), torch.Size([2, 1]))"
      ]
     },
     "metadata": {},
     "execution_count": 17
    }
   ],
   "source": [
    "a.unsqueeze(-1),a.unsqueeze(-1).shape"
   ]
  },
  {
   "cell_type": "code",
   "execution_count": 18,
   "metadata": {},
   "outputs": [
    {
     "output_type": "execute_result",
     "data": {
      "text/plain": [
       "(tensor([[1.2000, 2.3000]]), torch.Size([1, 2]))"
      ]
     },
     "metadata": {},
     "execution_count": 18
    }
   ],
   "source": [
    "a.unsqueeze(0),a.unsqueeze(0).shape"
   ]
  },
  {
   "cell_type": "code",
   "execution_count": 19,
   "metadata": {},
   "outputs": [],
   "source": [
    "a = torch.rand(4, 32, 14, 14)"
   ]
  },
  {
   "cell_type": "code",
   "execution_count": 20,
   "metadata": {},
   "outputs": [],
   "source": [
    "b = torch.rand(1, 32, 1, 1)"
   ]
  },
  {
   "cell_type": "code",
   "execution_count": 24,
   "metadata": {},
   "outputs": [
    {
     "output_type": "execute_result",
     "data": {
      "text/plain": [
       "torch.Size([4, 32, 14, 14])"
      ]
     },
     "metadata": {},
     "execution_count": 24
    }
   ],
   "source": [
    "b.expand(4, 32, 14, 14).shape"
   ]
  },
  {
   "cell_type": "code",
   "execution_count": 25,
   "metadata": {},
   "outputs": [
    {
     "output_type": "execute_result",
     "data": {
      "text/plain": [
       "torch.Size([1, 32, 1, 1])"
      ]
     },
     "metadata": {},
     "execution_count": 25
    }
   ],
   "source": [
    "b.expand(-1, 32, -1, -1).shape # -1表示维度保持不变"
   ]
  },
  {
   "cell_type": "code",
   "execution_count": 26,
   "metadata": {},
   "outputs": [
    {
     "output_type": "execute_result",
     "data": {
      "text/plain": [
       "torch.Size([1, 32, 1, -4])"
      ]
     },
     "metadata": {},
     "execution_count": 26
    }
   ],
   "source": [
    "b.expand(-1, 32, -1, -4).shape"
   ]
  },
  {
   "cell_type": "code",
   "execution_count": 27,
   "metadata": {},
   "outputs": [
    {
     "output_type": "execute_result",
     "data": {
      "text/plain": [
       "torch.Size([4, 1024, 1, 1])"
      ]
     },
     "metadata": {},
     "execution_count": 27
    }
   ],
   "source": [
    "b.repeat(4, 32, 1, 1).shape"
   ]
  },
  {
   "cell_type": "code",
   "execution_count": 28,
   "metadata": {},
   "outputs": [
    {
     "output_type": "execute_result",
     "data": {
      "text/plain": [
       "torch.Size([4, 32, 1, 1])"
      ]
     },
     "metadata": {},
     "execution_count": 28
    }
   ],
   "source": [
    "b.repeat(4, 1, 1, 1).shape"
   ]
  },
  {
   "cell_type": "code",
   "execution_count": 29,
   "metadata": {},
   "outputs": [
    {
     "output_type": "execute_result",
     "data": {
      "text/plain": [
       "torch.Size([4, 32, 32, 32])"
      ]
     },
     "metadata": {},
     "execution_count": 29
    }
   ],
   "source": [
    "b.repeat(4, 1, 32, 32).shape"
   ]
  },
  {
   "cell_type": "code",
   "execution_count": 30,
   "metadata": {},
   "outputs": [],
   "source": [
    "a = torch.randn(3, 4)"
   ]
  },
  {
   "cell_type": "code",
   "execution_count": 31,
   "metadata": {},
   "outputs": [
    {
     "output_type": "execute_result",
     "data": {
      "text/plain": [
       "tensor([[-1.3668,  1.9339,  0.8603],\n",
       "        [ 0.1981,  2.4385,  2.1875],\n",
       "        [ 0.5754,  0.1694, -0.0734],\n",
       "        [-0.3411, -0.5878,  0.3197]])"
      ]
     },
     "metadata": {},
     "execution_count": 31
    }
   ],
   "source": [
    "a.t()"
   ]
  },
  {
   "cell_type": "code",
   "execution_count": 32,
   "metadata": {},
   "outputs": [
    {
     "output_type": "error",
     "ename": "RuntimeError",
     "evalue": "t() expects a tensor with <= 2 dimensions, but self is 4D",
     "traceback": [
      "\u001b[0;31m---------------------------------------------------------------------------\u001b[0m",
      "\u001b[0;31mRuntimeError\u001b[0m                              Traceback (most recent call last)",
      "\u001b[0;32m<ipython-input-32-b510e0f64f40>\u001b[0m in \u001b[0;36m<module>\u001b[0;34m\u001b[0m\n\u001b[0;32m----> 1\u001b[0;31m \u001b[0mb\u001b[0m\u001b[0;34m.\u001b[0m\u001b[0mt\u001b[0m\u001b[0;34m(\u001b[0m\u001b[0;34m)\u001b[0m\u001b[0;34m\u001b[0m\u001b[0;34m\u001b[0m\u001b[0m\n\u001b[0m",
      "\u001b[0;31mRuntimeError\u001b[0m: t() expects a tensor with <= 2 dimensions, but self is 4D"
     ]
    }
   ],
   "source": [
    "b.t()"
   ]
  },
  {
   "cell_type": "code",
   "execution_count": null,
   "metadata": {},
   "outputs": [],
   "source": []
  }
 ]
}